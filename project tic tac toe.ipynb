{
 "cells": [
  {
   "cell_type": "code",
   "execution_count": 1,
   "id": "65129f78-bce1-42d7-a6fb-4b9434e6b4de",
   "metadata": {},
   "outputs": [
    {
     "name": "stdout",
     "output_type": "stream",
     "text": [
      "|   |   |   |\n",
      "|   |   |   |\n",
      "|   |   |   |\n",
      "**************\n",
      "Computer chooses: 5\n",
      "|   |   |   |\n",
      "|   | X |   |\n",
      "|   |   |   |\n",
      "**************\n"
     ]
    },
    {
     "name": "stdin",
     "output_type": "stream",
     "text": [
      "Enter position (1-9):  7\n"
     ]
    },
    {
     "name": "stdout",
     "output_type": "stream",
     "text": [
      "|   |   |   |\n",
      "|   | X |   |\n",
      "| O |   |   |\n",
      "**************\n",
      "Computer chooses: 6\n",
      "|   |   |   |\n",
      "|   | X | X |\n",
      "| O |   |   |\n",
      "**************\n"
     ]
    },
    {
     "name": "stdin",
     "output_type": "stream",
     "text": [
      "Enter position (1-9):  4\n"
     ]
    },
    {
     "name": "stdout",
     "output_type": "stream",
     "text": [
      "|   |   |   |\n",
      "| O | X | X |\n",
      "| O |   |   |\n",
      "**************\n",
      "Computer chooses: 1\n",
      "| X |   |   |\n",
      "| O | X | X |\n",
      "| O |   |   |\n",
      "**************\n"
     ]
    },
    {
     "name": "stdin",
     "output_type": "stream",
     "text": [
      "Enter position (1-9):  2\n"
     ]
    },
    {
     "name": "stdout",
     "output_type": "stream",
     "text": [
      "| X | O |   |\n",
      "| O | X | X |\n",
      "| O |   |   |\n",
      "**************\n",
      "Computer chooses: 9\n",
      "| X | O |   |\n",
      "| O | X | X |\n",
      "| O |   | X |\n",
      "**************\n",
      "* Computer Wins *\n"
     ]
    }
   ],
   "source": [
    "import random\n",
    "\n",
    "# Initial board setup\n",
    "board = [' '] * 10  # index 0 will be ignored for convenience\n",
    "computer = \"X\"\n",
    "human = \"O\"\n",
    "game_over = False\n",
    "\n",
    "# Function to print the board\n",
    "def print_board(board):\n",
    "    print(f'| {board[1]} | {board[2]} | {board[3]} |')\n",
    "    print(f'| {board[4]} | {board[5]} | {board[6]} |')\n",
    "    print(f'| {board[7]} | {board[8]} | {board[9]} |')\n",
    "    print('*' * 14)\n",
    "\n",
    "# Check for a win\n",
    "def check_win(board, letter):\n",
    "    win_combinations = [\n",
    "        (1, 2, 3), (4, 5, 6), (7, 8, 9),\n",
    "        (1, 4, 7), (2, 5, 8), (3, 6, 9),\n",
    "        (1, 5, 9), (3, 5, 7)\n",
    "    ]\n",
    "    return any(board[a] == board[b] == board[c] == letter for a, b, c in win_combinations)\n",
    "\n",
    "# Check for draw\n",
    "def check_draw(board):\n",
    "    return ' ' not in board[1:]\n",
    "\n",
    "# Check if position is available\n",
    "def is_available(posi):\n",
    "    return board[posi] == ' '\n",
    "\n",
    "# Insert letter on board\n",
    "def insert(letter, posi):\n",
    "    board[posi] = letter\n",
    "    print_board(board)\n",
    "\n",
    "# Human move\n",
    "def human_move():\n",
    "    while True:\n",
    "        try:\n",
    "            posi = int(input(\"Enter position (1-9): \"))\n",
    "            if posi < 1 or posi > 9:\n",
    "                print(\"Invalid input. Choose between 1 and 9.\")\n",
    "            elif not is_available(posi):\n",
    "                print(\"Position already taken. Try again.\")\n",
    "            else:\n",
    "                insert(human, posi)\n",
    "                break\n",
    "        except ValueError:\n",
    "            print(\"Please enter a valid number.\")\n",
    "\n",
    "# Computer move\n",
    "def computer_move():\n",
    "    while True:\n",
    "        posi = random.randint(1, 9)\n",
    "        if is_available(posi):\n",
    "            print(\"Computer chooses:\", posi)\n",
    "            insert(computer, posi)\n",
    "            break\n",
    "\n",
    "# Game loop\n",
    "print_board(board)\n",
    "\n",
    "while not game_over:\n",
    "    computer_move()\n",
    "    if check_win(board, computer):\n",
    "        print(\"* Computer Wins *\")\n",
    "        game_over = True\n",
    "        break\n",
    "    if check_draw(board):\n",
    "        print(\"* Game is Tie *\")\n",
    "        break\n",
    "\n",
    "    human_move()\n",
    "    if check_win(board, human):\n",
    "        print(\"* Human Wins *\")\n",
    "        game_over = True\n",
    "        break\n",
    "    if check_draw(board):\n",
    "        print(\"* Game is Tie *\")\n",
    "        break\n"
   ]
  },
  {
   "cell_type": "code",
   "execution_count": null,
   "id": "2a96a3d0-0a14-4395-a40a-9f4111b1202f",
   "metadata": {},
   "outputs": [],
   "source": []
  }
 ],
 "metadata": {
  "kernelspec": {
   "display_name": "Python [conda env:base] *",
   "language": "python",
   "name": "conda-base-py"
  },
  "language_info": {
   "codemirror_mode": {
    "name": "ipython",
    "version": 3
   },
   "file_extension": ".py",
   "mimetype": "text/x-python",
   "name": "python",
   "nbconvert_exporter": "python",
   "pygments_lexer": "ipython3",
   "version": "3.12.7"
  }
 },
 "nbformat": 4,
 "nbformat_minor": 5
}
